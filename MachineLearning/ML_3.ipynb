{
 "cells": [
  {
   "cell_type": "code",
   "execution_count": 59,
   "metadata": {
    "scrolled": false
   },
   "outputs": [],
   "source": [
    "import numpy as np\n",
    "import matplotlib.pyplot as plt\n",
    "import pandas as pd"
   ]
  },
  {
   "cell_type": "code",
   "execution_count": 60,
   "metadata": {},
   "outputs": [],
   "source": [
    "X = pd.read_csv('./weatherww2/Summary of Weather.csv')"
   ]
  },
  {
   "cell_type": "code",
   "execution_count": null,
   "metadata": {},
   "outputs": [],
   "source": []
  },
  {
   "cell_type": "code",
   "execution_count": null,
   "metadata": {},
   "outputs": [],
   "source": []
  },
  {
   "cell_type": "code",
   "execution_count": null,
   "metadata": {},
   "outputs": [],
   "source": []
  },
  {
   "cell_type": "code",
   "execution_count": null,
   "metadata": {},
   "outputs": [],
   "source": []
  },
  {
   "cell_type": "code",
   "execution_count": null,
   "metadata": {},
   "outputs": [],
   "source": []
  },
  {
   "cell_type": "markdown",
   "metadata": {},
   "source": [
    "### Read Dataset"
   ]
  },
  {
   "cell_type": "code",
   "execution_count": 49,
   "metadata": {},
   "outputs": [
    {
     "name": "stdout",
     "output_type": "stream",
     "text": [
      "['STA' 'Date' 'Precip' 'WindGustSpd' 'MaxTemp' 'MinTemp' 'MeanTemp'\n",
      " 'Snowfall' 'PoorWeather' 'YR' 'MO' 'DA' 'PRCP' 'DR' 'SPD' 'MAX' 'MIN'\n",
      " 'MEA' 'SNF' 'SND' 'FT' 'FB' 'FTI' 'ITH' 'PGT' 'TSHDSBRSGF' 'SD3' 'RHX'\n",
      " 'RHN' 'RVG' 'WTE']\n",
      "(119040, 2)\n"
     ]
    }
   ],
   "source": [
    "print X.columns.values\n",
    "\n",
    "X = X[[\"MaxTemp\",\"MinTemp\"]]\n",
    "\n",
    "print X.shape"
   ]
  },
  {
   "cell_type": "code",
   "execution_count": 50,
   "metadata": {},
   "outputs": [
    {
     "name": "stdout",
     "output_type": "stream",
     "text": [
      "(119040, 2)\n",
      "(119040,)\n"
     ]
    }
   ],
   "source": [
    "X = np.array(X)\n",
    "print X.shape\n",
    "print X[:,0].shape"
   ]
  },
  {
   "cell_type": "code",
   "execution_count": 51,
   "metadata": {},
   "outputs": [
    {
     "data": {
      "image/png": "[encoded data removed]",
      "text/plain": [
       "<Figure size 432x288 with 1 Axes>"
      ]
     },
     "metadata": {},
     "output_type": "display_data"
    }
   ],
   "source": [
    "plt.scatter(X[:,0],X[:,1])\n",
    "plt.show()"
   ]
  },
  {
   "cell_type": "code",
   "execution_count": 52,
   "metadata": {},
   "outputs": [
    {
     "name": "stdout",
     "output_type": "stream",
     "text": [
      "[25.55555556 28.88888889 26.11111111 26.66666667 26.66666667 26.66666667\n",
      " 28.33333333 26.66666667 27.22222222 25.55555556]\n",
      "[22.22222222 21.66666667 22.22222222 22.22222222 21.66666667 21.66666667\n",
      " 22.77777778 22.22222222 22.77777778 21.66666667]\n"
     ]
    }
   ],
   "source": [
    "x = X[:,0]\n",
    "y = X[:,1]\n",
    "\n",
    "print x[:10]\n",
    "print y[:10]"
   ]
  },
  {
   "cell_type": "code",
   "execution_count": 53,
   "metadata": {},
   "outputs": [],
   "source": [
    "def error(m,b,x,y):\n",
    "    yPredicted = (m*(x))+b\n",
    "    return (yPredicted-y)"
   ]
  },
  {
   "cell_type": "code",
   "execution_count": 63,
   "metadata": {},
   "outputs": [],
   "source": [
    "m = 0\n",
    "b = 0"
   ]
  },
  {
   "cell_type": "code",
   "execution_count": 64,
   "metadata": {
    "scrolled": false
   },
   "outputs": [
    {
     "data": {
      "image/png": "[encoded data removed]",
      "text/plain": [
       "<Figure size 432x288 with 1 Axes>"
      ]
     },
     "metadata": {},
     "output_type": "display_data"
    },
    {
     "data": {
      "image/png": "[encoded data removed]",
      "text/plain": [
       "<Figure size 432x288 with 1 Axes>"
      ]
     },
     "metadata": {},
     "output_type": "display_data"
    }
   ],
   "source": [
    "alpha = 0.0001\n",
    "for i in range(10000):\n",
    "    for j in range(x.shape[0]):\n",
    "        e = error(m,b,x[j],y[j])\n",
    "        m = m - ( alpha * (2*e*x[j]) )\n",
    "        b = b - ( alpha * (2*e) )\n",
    "    plt.scatter(i,m,c='yellow')\n",
    "    plt.scatter(i,b,c='brown')\n",
    "plt.show()\n",
    "\n",
    "plt.scatter(x,y)\n",
    "plt.plot(x,((m*x)+b),c='red')\n",
    "plt.show()"
   ]
  },
  {
   "cell_type": "code",
   "execution_count": 62,
   "metadata": {},
   "outputs": [
    {
     "name": "stdout",
     "output_type": "stream",
     "text": [
      "0.8093799054947197 -4.8828771762768985\n"
     ]
    }
   ],
   "source": [
    "print m,b"
   ]
  },
  {
   "cell_type": "code",
   "execution_count": 75,
   "metadata": {},
   "outputs": [
    {
     "name": "stdout",
     "output_type": "stream",
     "text": [
      "Min Temp is\n",
      "20.207899894059413\n"
     ]
    }
   ],
   "source": [
    "maxTemp = 31\n",
    "\n",
    "print (\"Min Temp is\")\n",
    "print ((m*maxTemp)+b)"
   ]
  }
 ],
 "metadata": {
  "kernelspec": {
   "display_name": "Python 2",
   "language": "python",
   "name": "python2"
  },
  "language_info": {
   "codemirror_mode": {
    "name": "ipython",
    "version": 2
   },
   "file_extension": ".py",
   "mimetype": "text/x-python",
   "name": "python",
   "nbconvert_exporter": "python",
   "pygments_lexer": "ipython2",
   "version": "2.7.12"
  }
 },
 "nbformat": 4,
 "nbformat_minor": 2
}
