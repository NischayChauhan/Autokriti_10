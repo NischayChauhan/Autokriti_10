{
 "cells": [
  {
   "cell_type": "code",
   "execution_count": 43,
   "metadata": {},
   "outputs": [
    {
     "name": "stdout",
     "output_type": "stream",
     "text": [
      "SUCCESSFULL \n",
      "Var: x Value: 12<br>\n"
     ]
    }
   ],
   "source": [
    "import requests as rq\n",
    "x=12\n",
    "param = {'id':'heyThere',\n",
    "          'Name':'Ram',\n",
    "          'Var':'x',\n",
    "          'Value':x}\n",
    "a = rq.get(\"http://saenitkurukshetra.com/API/ak10.php\",param)\n",
    "\n",
    "print (a.text)\n",
    "\n",
    "\n",
    "\n",
    "\n",
    "param = {'id':'heyThere',\n",
    "          'Name':'Ram',\n",
    "}\n",
    "\n",
    "a = rq.get(\"http://saenitkurukshetra.com/API/ak10_R.php\",param)\n",
    "st = str(a.text)\n"
   ]
  },
  {
   "cell_type": "code",
   "execution_count": 46,
   "metadata": {},
   "outputs": [
    {
     "name": "stdout",
     "output_type": "stream",
     "text": [
      "12\n"
     ]
    }
   ],
   "source": [
    "print (st[-6:-4])"
   ]
  },
  {
   "cell_type": "code",
   "execution_count": null,
   "metadata": {},
   "outputs": [],
   "source": []
  }
 ],
 "metadata": {
  "kernelspec": {
   "display_name": "Python 2",
   "language": "python",
   "name": "python2"
  },
  "language_info": {
   "codemirror_mode": {
    "name": "ipython",
    "version": 2
   },
   "file_extension": ".py",
   "mimetype": "text/x-python",
   "name": "python",
   "nbconvert_exporter": "python",
   "pygments_lexer": "ipython2",
   "version": "2.7.12"
  }
 },
 "nbformat": 4,
 "nbformat_minor": 2
}
